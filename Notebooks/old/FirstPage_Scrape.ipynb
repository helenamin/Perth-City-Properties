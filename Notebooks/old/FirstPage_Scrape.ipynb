{
 "cells": [
  {
   "cell_type": "code",
   "execution_count": 1,
   "metadata": {},
   "outputs": [],
   "source": [
    "# Dependencies\n",
    "from bs4 import BeautifulSoup\n",
    "import requests"
   ]
  },
  {
   "cell_type": "code",
   "execution_count": 2,
   "metadata": {},
   "outputs": [],
   "source": [
    "# URL of page to be scraped\n",
    "url = 'http://house.speakingsame.com/p.php?q=Perth%2C+WA'"
   ]
  },
  {
   "cell_type": "code",
   "execution_count": 3,
   "metadata": {},
   "outputs": [],
   "source": [
    "# Retrieve page with the requests module\n",
    "response = requests.get(url)"
   ]
  },
  {
   "cell_type": "code",
   "execution_count": 4,
   "metadata": {},
   "outputs": [],
   "source": [
    "# Create BeautifulSoup object; parse with 'html.parser'\n",
    "soup = BeautifulSoup(response.text, 'html.parser')"
   ]
  },
  {
   "cell_type": "code",
   "execution_count": 5,
   "metadata": {},
   "outputs": [
    {
     "data": {
      "text/plain": [
       "['39/128 Mounts Bay Road',\n",
       " '32/418 Murray Street',\n",
       " '40/120 Lake Street',\n",
       " '11/177 Stirling Street',\n",
       " '21 Myrtle Street',\n",
       " '5/19 Lindsay Street',\n",
       " '8/124 Mounts Bay Road',\n",
       " '26/14 Money Street',\n",
       " '104/305 Murray Street',\n",
       " '401/237 Adelaide Terrace']"
      ]
     },
     "execution_count": 5,
     "metadata": {},
     "output_type": "execute_result"
    }
   ],
   "source": [
    "addr_spans = soup.find_all('span', class_='addr')\n",
    "\n",
    "addresses = [] \n",
    "for span in addr_spans:\n",
    "    addresses.append(span.a.text)\n",
    "addresses"
   ]
  },
  {
   "cell_type": "code",
   "execution_count": 6,
   "metadata": {},
   "outputs": [],
   "source": [
    "tables = soup.find_all('table', style=\"font-size:13px\") #tables list (except 0,1 index) contians list of properties in the page"
   ]
  },
  {
   "cell_type": "code",
   "execution_count": 7,
   "metadata": {},
   "outputs": [
    {
     "data": {
      "text/plain": [
       "[['Sold $516,000 in Jul 2021',\n",
       "  'Apartment: ',\n",
       "  'Land size: 157 sqm',\n",
       "  'Agent: David Airey',\n",
       "  'Street view | Nearby'],\n",
       " ['Sold $325,000 in Jul 2021', 'Apartment: ', 'Street view | Nearby'],\n",
       " ['Sold $373,000 in Jul 2021',\n",
       "  'Last Sold $361,000 in Mar 2009',\n",
       "  'Apartment: 2  1  1 ',\n",
       "  'Land size: 2,495 sqm | Building size: 100 sqm',\n",
       "  'Agent: Sam Dempsey',\n",
       "  'Spacious 2 bedroom top floor apartment in beautiful condition with many extras and secure parking. More information to follow. Register your interest today. Phone Ron Goddard 0449 757 945.more',\n",
       "  'Street view | Nearby'],\n",
       " ['Sold $450,000 in Jul 2021',\n",
       "  'Rent $465pw in Nov 2016',\n",
       "  'Apartment: 2  2  1 ',\n",
       "  'Land size: 109 sqm | Building size: 70 sqm',\n",
       "  'Agent: Danielle Geagea',\n",
       "  'Street view | Nearby'],\n",
       " ['Sold $802,000 in Jul 2021',\n",
       "  'Last Sold $735,000 in Sep 2013',\n",
       "  'Rent $590pw in Oct 2018',\n",
       "  'Townhouse: 3  1  2 ',\n",
       "  'Land size: 104 sqm',\n",
       "  \"Agent: Annette O'Brien-Oxley\",\n",
       "  'Lot/Plan No: 2/S009756more',\n",
       "  'Floorplan | Street view | Nearby'],\n",
       " ['Sold $590,000 in Jul 2021',\n",
       "  'Rent $575pw in Jan 2019',\n",
       "  'Apartment: 2  2  1 ',\n",
       "  'Land size: 749 sqm | Building size: 83 sqm',\n",
       "  'Agent: Maurice Flores',\n",
       "  'Brand New, Eco Friendly Warehouse Living. Now complete and ready to move in, the brand new Soda apartments deliver eco-friendly urban living at its finest with the transformation of Perths...more',\n",
       "  'Floorplan | Street view | Nearby'],\n",
       " ['Sold $500,000 in Jun 2021',\n",
       "  'Rent $690pw in Oct 2018',\n",
       "  'Apartment: 3  2  1 ',\n",
       "  'Land size: 1,405 sqm | Building size: 120 sqm',\n",
       "  'Agent: Matt McWaters',\n",
       "  'Street view | Nearby'],\n",
       " ['Sold $815,000 in Jun 2021',\n",
       "  'Last Sold $735,000 in Aug 2011',\n",
       "  'Rent $600pw in May 2010',\n",
       "  'Apartment: 3  2  1 ',\n",
       "  'Land size: 2,143 sqm | Building size: 152 sqm',\n",
       "  'The Art of Living, in the Heart of Perth - Open Sat 14/6 12-12.40PM. This property is all about lifestyle and living well. In an envied inner city location on the beautiful and leafy Money Street...more',\n",
       "  'Floorplan | Street view | Nearby'],\n",
       " ['Sold $245,000 in Jun 2021', 'Apartment: ', 'Street view | Nearby'],\n",
       " ['Sold $365,000 in Jun 2021',\n",
       "  'Apartment: 1  1  1 ',\n",
       "  'Land size: 4,143 sqm | Building size: 70 sqm',\n",
       "  \"Under Offer by Leon Siew. Perth City's finest example of sky-high luxury living! Sex and the City eat your heart out. Sitting high in this exclusive community is a sanctuary that makes inner-city...more\",\n",
       "  'Street view | Nearby']]"
      ]
     },
     "execution_count": 7,
     "metadata": {},
     "output_type": "execute_result"
    }
   ],
   "source": [
    "page_info = []\n",
    "for i in range(2,12):\n",
    "    try:\n",
    "        info = []\n",
    "        trs = tables[i].find_all('tr')\n",
    "        for tr in trs:\n",
    "            info.append(tr.td.text)\n",
    "    except:\n",
    "        info.append('')\n",
    "    page_info.append(info)\n",
    "page_info"
   ]
  },
  {
   "cell_type": "code",
   "execution_count": 10,
   "metadata": {},
   "outputs": [
    {
     "data": {
      "text/plain": [
       "[{'address': '39/128 Mounts Bay Road',\n",
       "  'price': '$516,000',\n",
       "  'sold date': 'Jul 2021',\n",
       "  'type': 'Apartment',\n",
       "  'bedrooms': '',\n",
       "  'bathrooms': '',\n",
       "  'car space': '',\n",
       "  'agent': 'David Airey'},\n",
       " {'address': '32/418 Murray Street',\n",
       "  'price': '$325,000',\n",
       "  'sold date': 'Jul 2021',\n",
       "  'type': 'Apartment',\n",
       "  'bedrooms': '',\n",
       "  'bathrooms': '',\n",
       "  'car space': ''},\n",
       " {'address': '40/120 Lake Street',\n",
       "  'price': '$373,000',\n",
       "  'sold date': 'Jul 2021',\n",
       "  'type': 'Apartment',\n",
       "  'bedrooms': '2',\n",
       "  'bathrooms': '1',\n",
       "  'car space': '1',\n",
       "  'agent': 'Sam Dempsey'},\n",
       " {'address': '11/177 Stirling Street',\n",
       "  'price': '$450,000',\n",
       "  'sold date': 'Jul 2021',\n",
       "  'rent': '$465pw',\n",
       "  'rent date': 'Nov 2016',\n",
       "  'type': 'Apartment',\n",
       "  'bedrooms': '2',\n",
       "  'bathrooms': '2',\n",
       "  'car space': '1',\n",
       "  'agent': 'Danielle Geagea'},\n",
       " {'address': '21 Myrtle Street',\n",
       "  'price': '$802,000',\n",
       "  'sold date': 'Jul 2021',\n",
       "  'rent': '$590pw',\n",
       "  'rent date': 'Oct 2018',\n",
       "  'type': 'Townhouse',\n",
       "  'bedrooms': '3',\n",
       "  'bathrooms': '1',\n",
       "  'car space': '2',\n",
       "  'agent': \"Annette O'Brien-Oxley\"},\n",
       " {'address': '5/19 Lindsay Street',\n",
       "  'price': '$590,000',\n",
       "  'sold date': 'Jul 2021',\n",
       "  'rent': '$575pw',\n",
       "  'rent date': 'Jan 2019',\n",
       "  'type': 'Apartment',\n",
       "  'bedrooms': '2',\n",
       "  'bathrooms': '2',\n",
       "  'car space': '1',\n",
       "  'agent': 'Maurice Flores'},\n",
       " {'address': '8/124 Mounts Bay Road',\n",
       "  'price': '$500,000',\n",
       "  'sold date': 'Jun 2021',\n",
       "  'rent': '$690pw',\n",
       "  'rent date': 'Oct 2018',\n",
       "  'type': 'Apartment',\n",
       "  'bedrooms': '3',\n",
       "  'bathrooms': '2',\n",
       "  'car space': '1',\n",
       "  'agent': 'Matt McWaters'},\n",
       " {'address': '26/14 Money Street',\n",
       "  'price': '$815,000',\n",
       "  'sold date': 'Jun 2021',\n",
       "  'rent': '$600pw',\n",
       "  'rent date': 'May 2010',\n",
       "  'type': 'Apartment',\n",
       "  'bedrooms': '3',\n",
       "  'bathrooms': '2',\n",
       "  'car space': '1'},\n",
       " {'address': '104/305 Murray Street',\n",
       "  'price': '$245,000',\n",
       "  'sold date': 'Jun 2021',\n",
       "  'type': 'Apartment',\n",
       "  'bedrooms': '',\n",
       "  'bathrooms': '',\n",
       "  'car space': ''},\n",
       " {'address': '401/237 Adelaide Terrace',\n",
       "  'price': '$365,000',\n",
       "  'sold date': 'Jun 2021',\n",
       "  'type': 'Apartment',\n",
       "  'bedrooms': '1',\n",
       "  'bathrooms': '1',\n",
       "  'car space': '1'}]"
      ]
     },
     "execution_count": 10,
     "metadata": {},
     "output_type": "execute_result"
    }
   ],
   "source": [
    "Properties = []\n",
    "for i in range(0,10):\n",
    "    \n",
    "    Property_dict = {}\n",
    "    Property_dict['address'] = addresses[i]\n",
    "    \n",
    "    for j in range (0, len(page_info[i])):\n",
    "        \n",
    "        try:\n",
    "                    \n",
    "            if page_info[i][j].split(' ')[0] == \"Sold\": \n",
    "                Property_dict['price'] = page_info[i][j].split(' ')[1]\n",
    "                Property_dict['sold date'] = page_info[i][j].split('in ')[1]\n",
    "\n",
    "            if page_info[i][j].split(' ')[0] in [\"Apartment:\", \"House:\", \"Townhouse:\"]:\n",
    "                Property_dict['type'] = page_info[i][j].split(' ')[0].split(':')[0]\n",
    "                Property_dict['bedrooms'] = page_info[i][j].split(' ')[1]\n",
    "                try:\n",
    "                    Property_dict['bathrooms'] = page_info[i][j].split(' ')[3]\n",
    "                except:\n",
    "                    Property_dict['bathrooms'] = ''\n",
    "                try:\n",
    "                    Property_dict['car space'] = page_info[i][j].split(' ')[5]\n",
    "                except:\n",
    "                    Property_dict['car space'] = ''\n",
    "                    \n",
    "            if page_info[i][j].split(' ')[0] == \"Agent:\":\n",
    "                Property_dict['agent'] = page_info[i][j].split(': ')[1]\n",
    "                \n",
    "            if page_info[i][j].split(' ')[0] == \"Rent\":\n",
    "                Property_dict['rent'] = page_info[i][j].split(' ')[1]\n",
    "                Property_dict['rent date'] = page_info[i][j].split('in ')[1]\n",
    "                \n",
    "            if page_info[i][j].split(' ')[1] == \"size\":\n",
    "                if page_info[i][j].split(' ')[0] == \"Land\":\n",
    "                    Property_dict['Land size'] = page_info[i][j].split(' ')[2]\n",
    "                    try:\n",
    "                        if page_info[i][j].split(' ')[5] == \"Building\":\n",
    "                            Property_dict['Building size'] = page_info[i][j].split(' ')[7]\n",
    "                    except:\n",
    "                        continue\n",
    "                elif page_info[i][j].split(' ')[0] == \"Building\":\n",
    "                    Property_dict['Building size'] = page_info[i][j].split(' ')[2]\n",
    "            \n",
    "            \n",
    "        except:\n",
    "            continue\n",
    "\n",
    "  \n",
    "    Properties.append(Property_dict)\n",
    "        \n",
    "Properties"
   ]
  },
  {
   "cell_type": "code",
   "execution_count": null,
   "metadata": {},
   "outputs": [],
   "source": []
  }
 ],
 "metadata": {
  "kernelspec": {
   "display_name": "Python (PythonData)",
   "language": "python",
   "name": "pythondata"
  },
  "language_info": {
   "codemirror_mode": {
    "name": "ipython",
    "version": 3
   },
   "file_extension": ".py",
   "mimetype": "text/x-python",
   "name": "python",
   "nbconvert_exporter": "python",
   "pygments_lexer": "ipython3",
   "version": "3.9.5"
  }
 },
 "nbformat": 4,
 "nbformat_minor": 4
}
