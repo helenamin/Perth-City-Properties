{
 "cells": [
  {
   "cell_type": "code",
   "execution_count": 1,
   "metadata": {},
   "outputs": [],
   "source": [
    "# Dependencies\n",
    "from splinter import Browser\n",
    "from webdriver_manager.chrome import ChromeDriverManager\n",
    "from bs4 import BeautifulSoup\n",
    "import requests\n",
    "import numpy as np"
   ]
  },
  {
   "cell_type": "code",
   "execution_count": 2,
   "metadata": {},
   "outputs": [
    {
     "name": "stderr",
     "output_type": "stream",
     "text": [
      "\n",
      "\n",
      "====== WebDriver manager ======\n",
      "Current google-chrome version is 92.0.4515\n",
      "Get LATEST driver version for 92.0.4515\n",
      "Driver [C:\\Users\\John\\.wdm\\drivers\\chromedriver\\win32\\92.0.4515.107\\chromedriver.exe] found in cache\n"
     ]
    }
   ],
   "source": [
    "# Setup splinter\n",
    "executable_path = {'executable_path': ChromeDriverManager().install()}\n",
    "browser = Browser('chrome', **executable_path, headless=False)"
   ]
  },
  {
   "cell_type": "code",
   "execution_count": null,
   "metadata": {},
   "outputs": [],
   "source": [
    "from selenium import webdriver\n",
    "from selenium.webdriver.chrome.options import Options"
   ]
  },
  {
   "cell_type": "code",
   "execution_count": null,
   "metadata": {},
   "outputs": [],
   "source": [
    "# from selenium import webdriver\n",
    "# from selenium.webdriver.support.ui import WebDriverWait\n",
    "# from selenium.webdriver.support import expected_conditions as EC\n",
    "# from selenium.webdriver.common.by import By\n",
    "# from selenium.webdriver.common.action_chains import ActionChains\n",
    "\n",
    "# # driver = webdriver.Chrome()\n",
    "\n",
    "# # driver.get('https://www.soleretriever.com/raffles')\n",
    "\n",
    "# elem = WebDriverWait(driver, 20).until(EC.presence_of_element_located((By.XPATH, '/html/body/div[6]/div/div/div[2]/form/div[6]/button')))\n",
    "\n",
    "# action = ctionChains(driver)\n",
    "\n",
    "# action.move_to_element(elem).move_by_offset(250, 0).click().perform()"
   ]
  },
  {
   "cell_type": "code",
   "execution_count": null,
   "metadata": {},
   "outputs": [],
   "source": [
    "# PATH = \"C:\\Program Files (x86)\\chromedriver.exe\"\n",
    "# CHROME_DRIVER_PATH = \"C:\\Program Files (x86)\\chromedriver.exe\"\n",
    "# BIN_LOC = \"C:\\Program Files\\BraveSoftware\\Brave-Browser\\Application\\\\brave.exe\"\n",
    "\n",
    "# options = Options()\n",
    "# options.binary_location = BIN_LOC\n",
    "\n",
    "# driver = webdriver.Chrome(options=options, executable_path=CHROME_DRIVER_PATH) "
   ]
  },
  {
   "cell_type": "code",
   "execution_count": null,
   "metadata": {},
   "outputs": [],
   "source": [
    "# # Retrieve page with the requests module\n",
    "# response = requests.get(url)"
   ]
  },
  {
   "cell_type": "code",
   "execution_count": null,
   "metadata": {},
   "outputs": [],
   "source": [
    "# # Create BeautifulSoup object; parse with 'html.parser'\n",
    "# soup = BeautifulSoup(response.text, 'html.parser')"
   ]
  },
  {
   "cell_type": "code",
   "execution_count": null,
   "metadata": {},
   "outputs": [],
   "source": [
    "CHROME_DRIVER_PATH = \"C:\\Program Files (x86)\\chromedriver.exe\"\n",
    "\n",
    "chrome_options = webdriver.ChromeOptions(); \n",
    "chrome_options.add_experimental_option(\"excludeSwitches\", ['enable-automation']);\n",
    "driver = webdriver.Chrome(options=chrome_options, executable_path=CHROME_DRIVER_PATH);  "
   ]
  },
  {
   "cell_type": "code",
   "execution_count": null,
   "metadata": {},
   "outputs": [],
   "source": [
    "# URL of page to be scraped\n",
    "url = 'http://house.speakingsame.com/p.php?q=Perth%2C+WA'\n",
    "# browser.visit(url)\n",
    "driver.get(url)"
   ]
  },
  {
   "cell_type": "code",
   "execution_count": 3,
   "metadata": {},
   "outputs": [],
   "source": [
    "# URL of page to be scraped\n",
    "url = 'http://house.speakingsame.com/p.php?q=Perth%2C+WA'\n",
    "browser.visit(url)"
   ]
  },
  {
   "cell_type": "code",
   "execution_count": null,
   "metadata": {},
   "outputs": [],
   "source": [
    "driver.title"
   ]
  },
  {
   "cell_type": "code",
   "execution_count": null,
   "metadata": {},
   "outputs": [],
   "source": [
    "# desired_cap = {\n",
    "#  'browser': 'chrome',\n",
    "#  'browser_version': 'latest',\n",
    "#  'os': 'Windows',\n",
    "#  'os_version': '10',\n",
    "#  'build': 'Python Sample Build',\n",
    "#  'name': 'Pop-ups testing'\n",
    "# }\n",
    "# desired_cap[\"chromeOptions\"] = {}\n",
    "# desired_cap[\"chromeOptions\"][\"excludeSwitches\"] = [\"disable-popup-blocking\"]\n",
    "\n",
    "# driver = webdriver.Remote(\n",
    "#     command_executor='http://house.speakingsame.com/p.php?q=Perth&p=0&s=1&st=&type=&count=300&region=Perth&lat=0&lng=0&sta=wa&htype=&agent=0&minprice=0&maxprice=0&minbed=0&maxbed=0&minland=0&maxland=0',\n",
    "#     desired_capabilities=desired_cap\n",
    "#     )"
   ]
  },
  {
   "cell_type": "code",
   "execution_count": null,
   "metadata": {},
   "outputs": [],
   "source": [
    "l = driver.find_elements_by_class_name(\"addr\")"
   ]
  },
  {
   "cell_type": "code",
   "execution_count": null,
   "metadata": {},
   "outputs": [],
   "source": [
    "for i in l:\n",
    "   print(\"address:\"+ i.text)"
   ]
  },
  {
   "cell_type": "code",
   "execution_count": null,
   "metadata": {},
   "outputs": [],
   "source": [
    "driver.find_element_by_partial_link_text('Next').click()"
   ]
  },
  {
   "cell_type": "code",
   "execution_count": null,
   "metadata": {
    "scrolled": false
   },
   "outputs": [],
   "source": [
    "addresses = []\n",
    "properties_info = []\n",
    "\n",
    "pages = np.arange(0, 2, 1)\n",
    "\n",
    "for page in pages:\n",
    "    \n",
    "    page_url = \"http://house.speakingsame.com/p.php?q=Perth&p=\"+ str(page) +\"&s=1&st=&type=&count=300&region=Perth&lat=0&lng=0&sta=wa&htype=&agent=0&minprice=0&maxprice=0&minbed=0&maxbed=0&minland=0&maxland=0\"\n",
    "    \n",
    "    driver.get(page_url)\n",
    "#     html = driver.html\n",
    "#     soup = BeautifulSoup(html, 'html.parser')\n",
    "\n",
    "    # Scrape the address\n",
    "    addr_list = driver.find_elements_by_class_name(\"addr\")\n",
    "\n",
    "    for address in addr_list:\n",
    "        addresses.append(address.text)\n",
    "\n",
    "    # Scrape the rest of property information    \n",
    "#     tables = driver.find_elements_by_tag_name('table', style=\"font-size:13px\") #tables list (except 0,1 index) contians list of properties in the page\n",
    "#     tables = driver.find_element(By.XPATH,\"//table[@style='font-size:13px']\")\n",
    "    tables = driver.find_elements_by_xpath(\"//table[@style='font-size:13px']\")\n",
    "#     tds = driver.find_element_by_xpath(\"//table[@style='font-size:13px']/tbody/tr/td\").text\n",
    "    for i in range(2,12):\n",
    "\n",
    "        try:\n",
    "            info = []\n",
    "            trs = tables[i].find_elements_by_xpath('tr')\n",
    "            for tr in trs:\n",
    "                td = tr.find_element_by_xpath('td')\n",
    "                info.append(td.text)\n",
    "        except:\n",
    "            info.append('')\n",
    "\n",
    "        properties_info.append(info)\n",
    "        \n",
    "        \n",
    "#     #once all data scraped from 1st page, moving onto the next        \n",
    "#     next_page_url = 'http://house.speakingsame.com/p.php?q=Perth&p='+str(page+1)+'&s=1&st=&type=&count=300&region=Perth&lat=0&lng=0&sta=wa&htype=&agent=0&minprice=0&maxprice=0&minbed=0&maxbed=0&minland=0&maxland=0'\n",
    "\n",
    "#     driver.find_element_by_link_text(next_page_url).click()\n",
    "\n",
    "\n",
    "    next_click = driver.find_element_by_partial_link_text('Next')\n",
    "    \n",
    "    driver.execute_script(\"arguments[0].click();\", next_click)\n",
    "    \n",
    "properties_info"
   ]
  },
  {
   "cell_type": "code",
   "execution_count": null,
   "metadata": {},
   "outputs": [],
   "source": [
    "len(tds)"
   ]
  },
  {
   "cell_type": "code",
   "execution_count": null,
   "metadata": {},
   "outputs": [],
   "source": [
    "tds"
   ]
  },
  {
   "cell_type": "code",
   "execution_count": null,
   "metadata": {},
   "outputs": [],
   "source": [
    "len(properties_info)"
   ]
  },
  {
   "cell_type": "code",
   "execution_count": null,
   "metadata": {},
   "outputs": [],
   "source": [
    "print(tables.text)"
   ]
  },
  {
   "cell_type": "code",
   "execution_count": null,
   "metadata": {},
   "outputs": [],
   "source": [
    "tables[3].find_elements_by_xpath(\"//tr\")"
   ]
  },
  {
   "cell_type": "code",
   "execution_count": null,
   "metadata": {},
   "outputs": [],
   "source": [
    "for i in tds:\n",
    "   print(i.text)"
   ]
  },
  {
   "cell_type": "code",
   "execution_count": null,
   "metadata": {},
   "outputs": [],
   "source": [
    "len(addresses)"
   ]
  },
  {
   "cell_type": "code",
   "execution_count": null,
   "metadata": {},
   "outputs": [],
   "source": [
    "Properties = []\n",
    "for i in range(0, len(properties_info)):\n",
    "    \n",
    "    Property_dict = {}\n",
    "    Property_dict['address'] = addresses[i]\n",
    "    \n",
    "    for j in range (0, len(properties_info[i])):\n",
    "        \n",
    "        try:\n",
    "                    \n",
    "            if properties_info[i][j].split(' ')[0] == \"Sold\": \n",
    "                Property_dict['price'] = properties_info[i][j].split(' ')[1]\n",
    "                Property_dict['sold date'] = properties_info[i][j].split('in ')[1]\n",
    "\n",
    "            if properties_info[i][j].split(' ')[0] in [\"Apartment:\", \"House:\", \"Townhouse:\"]:\n",
    "                Property_dict['type'] = properties_info[i][j].split(' ')[0].split(':')[0]\n",
    "                Property_dict['bedrooms'] = properties_info[i][j].split(' ')[1]\n",
    "                try:\n",
    "                    Property_dict['bathrooms'] = properties_info[i][j].split(' ')[3]\n",
    "                except:\n",
    "                    Property_dict['bathrooms'] = ''\n",
    "                try:\n",
    "                    Property_dict['car space'] = properties_info[i][j].split(' ')[5]\n",
    "                except:\n",
    "                    Property_dict['car space'] = ''\n",
    "                    \n",
    "            if properties_info[i][j].split(' ')[0] == \"Agent:\":\n",
    "                Property_dict['agent'] = properties_info[i][j].split(': ')[1]\n",
    "                \n",
    "            if properties_info[i][j].split(' ')[0] == \"Rent\":\n",
    "                Property_dict['rent'] = properties_info[i][j].split(' ')[1]\n",
    "                Property_dict['rent date'] = properties_info[i][j].split('in ')[1]\n",
    "                \n",
    "            if properties_info[i][j].split(' ')[1] == \"size:\":\n",
    "                if properties_info[i][j].split(' ')[0] == \"Land\":\n",
    "                    Property_dict['Land size'] = properties_info[i][j].split(' ')[2]\n",
    "                    try:\n",
    "                        if properties_info[i][j].split(' ')[5] == \"Building\":\n",
    "                            Property_dict['Building size'] = properties_info[i][j].split(' ')[7]\n",
    "                    except:\n",
    "                        continue\n",
    "                elif properties_info[i][j].split(' ')[0] == \"Building\":\n",
    "                    Property_dict['Building size'] = properties_info[i][j].split(' ')[2]\n",
    "            \n",
    "            \n",
    "        except:\n",
    "            continue\n",
    "\n",
    "  \n",
    "    Properties.append(Property_dict)\n",
    "        \n",
    "Properties"
   ]
  },
  {
   "cell_type": "code",
   "execution_count": null,
   "metadata": {},
   "outputs": [],
   "source": [
    "len(Properties)"
   ]
  },
  {
   "cell_type": "code",
   "execution_count": null,
   "metadata": {},
   "outputs": [],
   "source": []
  },
  {
   "cell_type": "code",
   "execution_count": null,
   "metadata": {},
   "outputs": [],
   "source": []
  },
  {
   "cell_type": "code",
   "execution_count": null,
   "metadata": {},
   "outputs": [],
   "source": []
  },
  {
   "cell_type": "code",
   "execution_count": null,
   "metadata": {},
   "outputs": [],
   "source": []
  },
  {
   "cell_type": "code",
   "execution_count": null,
   "metadata": {},
   "outputs": [],
   "source": []
  },
  {
   "cell_type": "code",
   "execution_count": 4,
   "metadata": {},
   "outputs": [],
   "source": [
    "# URL of page to be scraped\n",
    "url = 'http://house.speakingsame.com/p.php?q=Perth%2C+WA'\n",
    "browser.visit(url)"
   ]
  },
  {
   "cell_type": "code",
   "execution_count": 5,
   "metadata": {},
   "outputs": [],
   "source": [
    "# # Retrieve page with the requests module\n",
    "# response = requests.get(url)\n"
   ]
  },
  {
   "cell_type": "code",
   "execution_count": 6,
   "metadata": {},
   "outputs": [],
   "source": [
    "# # Create BeautifulSoup object; parse with 'html.parser'\n",
    "# soup = BeautifulSoup(response.text, 'html.parser')"
   ]
  },
  {
   "cell_type": "code",
   "execution_count": 7,
   "metadata": {},
   "outputs": [
    {
     "data": {
      "text/plain": [
       "['39/128 Mounts Bay Road',\n",
       " '32/418 Murray Street',\n",
       " '40/120 Lake Street',\n",
       " '11/177 Stirling Street',\n",
       " '21 Myrtle Street',\n",
       " '5/19 Lindsay Street',\n",
       " '8/124 Mounts Bay Road',\n",
       " '26/14 Money Street',\n",
       " '104/305 Murray Street',\n",
       " '401/237 Adelaide Terrace']"
      ]
     },
     "execution_count": 7,
     "metadata": {},
     "output_type": "execute_result"
    }
   ],
   "source": [
    "addresses = []\n",
    "properties_info = []\n",
    "\n",
    "pages = np.arange(0, 2, 1)\n",
    "\n",
    "for page in pages:\n",
    "    \n",
    "    page_url = \"http://house.speakingsame.com/p.php?q=Perth&p=\"+ str(page) +\"&s=1&st=&type=&count=300&region=Perth&lat=0&lng=0&sta=wa&htype=&agent=0&minprice=0&maxprice=0&minbed=0&maxbed=0&minland=0&maxland=0\"\n",
    "\n",
    "   \n",
    "    html = browser.html\n",
    "    soup = BeautifulSoup(html, 'html.parser')\n",
    "\n",
    "    addr_spans = soup.find_all('span', class_='addr')\n",
    "\n",
    "    addresses = [] \n",
    "    for span in addr_spans:\n",
    "        addresses.append(span.a.text)\n",
    "    addresses\n",
    "\n",
    "    tables = soup.find_all('table', style=\"font-size:13px\") #tables list (except 0,1 index) contians list of properties in the page\n",
    "\n",
    "    for i in range(2,12):\n",
    "        try:\n",
    "            info = []\n",
    "            trs = tables[i].find_all('tr')\n",
    "            for tr in trs:\n",
    "                info.append(tr.td.text)\n",
    "        except:\n",
    "            info.append('')\n",
    "        properties_info.append(info)\n",
    "        \n",
    "    #once all data scraped from 1st page, moving onto the next        \n",
    "    next_page_url = 'http://house.speakingsame.com/p.php?q=Perth&p='+str(page+1)+'&s=1&st=&type=&count=300&region=Perth&lat=0&lng=0&sta=wa&htype=&agent=0&minprice=0&maxprice=0&minbed=0&maxbed=0&minland=0&maxland=0'\n",
    "\n",
    "    driver.find_element_by_link_text(next_page_url).click()\n",
    "    \n",
    "    \n",
    "properties_info  "
   ]
  },
  {
   "cell_type": "code",
   "execution_count": 8,
   "metadata": {},
   "outputs": [],
   "source": [
    "tables = soup.find_all('table', style=\"font-size:13px\") #tables list (except 0,1 index) contians list of properties in the page"
   ]
  },
  {
   "cell_type": "code",
   "execution_count": 9,
   "metadata": {},
   "outputs": [
    {
     "data": {
      "text/plain": [
       "[['Sold $516,000 in Jul 2021',\n",
       "  'Apartment: ',\n",
       "  'Land size: 157 sqm',\n",
       "  'Agent: David Airey',\n",
       "  'Street view | Nearby'],\n",
       " ['Sold $325,000 in Jul 2021', 'Apartment: ', 'Street view | Nearby'],\n",
       " ['Sold $373,000 in Jul 2021',\n",
       "  'Last Sold $361,000 in Mar 2009',\n",
       "  'Apartment: 2  1  1 ',\n",
       "  'Land size: 2,495 sqm | Building size: 100 sqm',\n",
       "  'Agent: Sam Dempsey',\n",
       "  'Spacious 2 bedroom top floor apartment in beautiful condition with many extras and secure parking. More information to follow. Register your interest today. Phone Ron Goddard 0449 757 945.more',\n",
       "  'Street view | Nearby'],\n",
       " ['Sold $450,000 in Jul 2021',\n",
       "  'Rent $465pw in Nov 2016',\n",
       "  'Apartment: 2  2  1 ',\n",
       "  'Land size: 109 sqm | Building size: 70 sqm',\n",
       "  'Agent: Danielle Geagea',\n",
       "  'Street view | Nearby'],\n",
       " ['Sold $802,000 in Jul 2021',\n",
       "  'Last Sold $735,000 in Sep 2013',\n",
       "  'Rent $590pw in Oct 2018',\n",
       "  'Townhouse: 3  1  2 ',\n",
       "  'Land size: 104 sqm',\n",
       "  \"Agent: Annette O'Brien-Oxley\",\n",
       "  'Lot/Plan No: 2/S009756more',\n",
       "  'Floorplan | Street view | Nearby'],\n",
       " ['Sold $590,000 in Jul 2021',\n",
       "  'Rent $575pw in Jan 2019',\n",
       "  'Apartment: 2  2  1 ',\n",
       "  'Land size: 749 sqm | Building size: 83 sqm',\n",
       "  'Agent: Maurice Flores',\n",
       "  'Brand New, Eco Friendly Warehouse Living. Now complete and ready to move in, the brand new Soda apartments deliver eco-friendly urban living at its finest with the transformation of Perths...more',\n",
       "  'Floorplan | Street view | Nearby'],\n",
       " ['Sold $500,000 in Jun 2021',\n",
       "  'Rent $690pw in Oct 2018',\n",
       "  'Apartment: 3  2  1 ',\n",
       "  'Land size: 1,405 sqm | Building size: 120 sqm',\n",
       "  'Agent: Matt McWaters',\n",
       "  'Street view | Nearby'],\n",
       " ['Sold $815,000 in Jun 2021',\n",
       "  'Last Sold $735,000 in Aug 2011',\n",
       "  'Rent $600pw in May 2010',\n",
       "  'Apartment: 3  2  1 ',\n",
       "  'Land size: 2,143 sqm | Building size: 152 sqm',\n",
       "  'The Art of Living, in the Heart of Perth - Open Sat 14/6 12-12.40PM. This property is all about lifestyle and living well. In an envied inner city location on the beautiful and leafy Money Street...more',\n",
       "  'Floorplan | Street view | Nearby'],\n",
       " ['Sold $245,000 in Jun 2021', 'Apartment: ', 'Street view | Nearby'],\n",
       " ['Sold $365,000 in Jun 2021',\n",
       "  'Apartment: 1  1  1 ',\n",
       "  'Land size: 4,143 sqm | Building size: 70 sqm',\n",
       "  \"Under Offer by Leon Siew. Perth City's finest example of sky-high luxury living! Sex and the City eat your heart out. Sitting high in this exclusive community is a sanctuary that makes inner-city...more\",\n",
       "  'Street view | Nearby']]"
      ]
     },
     "execution_count": 9,
     "metadata": {},
     "output_type": "execute_result"
    }
   ],
   "source": [
    "page_info = []\n",
    "for i in range(2,12):\n",
    "    try:\n",
    "        info = []\n",
    "        trs = tables[i].find_all('tr')\n",
    "        for tr in trs:\n",
    "            info.append(tr.td.text)\n",
    "    except:\n",
    "        info.append('')\n",
    "    page_info.append(info)\n",
    "page_info"
   ]
  },
  {
   "cell_type": "code",
   "execution_count": 10,
   "metadata": {},
   "outputs": [
    {
     "data": {
      "text/plain": [
       "[{'address': '39/128 Mounts Bay Road',\n",
       "  'price': '$516,000',\n",
       "  'sold date': 'Jul 2021',\n",
       "  'type': 'Apartment',\n",
       "  'bedrooms': '',\n",
       "  'bathrooms': '',\n",
       "  'car space': '',\n",
       "  'agent': 'David Airey'},\n",
       " {'address': '32/418 Murray Street',\n",
       "  'price': '$325,000',\n",
       "  'sold date': 'Jul 2021',\n",
       "  'type': 'Apartment',\n",
       "  'bedrooms': '',\n",
       "  'bathrooms': '',\n",
       "  'car space': ''},\n",
       " {'address': '40/120 Lake Street',\n",
       "  'price': '$373,000',\n",
       "  'sold date': 'Jul 2021',\n",
       "  'type': 'Apartment',\n",
       "  'bedrooms': '2',\n",
       "  'bathrooms': '1',\n",
       "  'car space': '1',\n",
       "  'agent': 'Sam Dempsey'},\n",
       " {'address': '11/177 Stirling Street',\n",
       "  'price': '$450,000',\n",
       "  'sold date': 'Jul 2021',\n",
       "  'rent': '$465pw',\n",
       "  'rent date': 'Nov 2016',\n",
       "  'type': 'Apartment',\n",
       "  'bedrooms': '2',\n",
       "  'bathrooms': '2',\n",
       "  'car space': '1',\n",
       "  'agent': 'Danielle Geagea'},\n",
       " {'address': '21 Myrtle Street',\n",
       "  'price': '$802,000',\n",
       "  'sold date': 'Jul 2021',\n",
       "  'rent': '$590pw',\n",
       "  'rent date': 'Oct 2018',\n",
       "  'type': 'Townhouse',\n",
       "  'bedrooms': '3',\n",
       "  'bathrooms': '1',\n",
       "  'car space': '2',\n",
       "  'agent': \"Annette O'Brien-Oxley\"},\n",
       " {'address': '5/19 Lindsay Street',\n",
       "  'price': '$590,000',\n",
       "  'sold date': 'Jul 2021',\n",
       "  'rent': '$575pw',\n",
       "  'rent date': 'Jan 2019',\n",
       "  'type': 'Apartment',\n",
       "  'bedrooms': '2',\n",
       "  'bathrooms': '2',\n",
       "  'car space': '1',\n",
       "  'agent': 'Maurice Flores'},\n",
       " {'address': '8/124 Mounts Bay Road',\n",
       "  'price': '$500,000',\n",
       "  'sold date': 'Jun 2021',\n",
       "  'rent': '$690pw',\n",
       "  'rent date': 'Oct 2018',\n",
       "  'type': 'Apartment',\n",
       "  'bedrooms': '3',\n",
       "  'bathrooms': '2',\n",
       "  'car space': '1',\n",
       "  'agent': 'Matt McWaters'},\n",
       " {'address': '26/14 Money Street',\n",
       "  'price': '$815,000',\n",
       "  'sold date': 'Jun 2021',\n",
       "  'rent': '$600pw',\n",
       "  'rent date': 'May 2010',\n",
       "  'type': 'Apartment',\n",
       "  'bedrooms': '3',\n",
       "  'bathrooms': '2',\n",
       "  'car space': '1'},\n",
       " {'address': '104/305 Murray Street',\n",
       "  'price': '$245,000',\n",
       "  'sold date': 'Jun 2021',\n",
       "  'type': 'Apartment',\n",
       "  'bedrooms': '',\n",
       "  'bathrooms': '',\n",
       "  'car space': ''},\n",
       " {'address': '401/237 Adelaide Terrace',\n",
       "  'price': '$365,000',\n",
       "  'sold date': 'Jun 2021',\n",
       "  'type': 'Apartment',\n",
       "  'bedrooms': '1',\n",
       "  'bathrooms': '1',\n",
       "  'car space': '1'}]"
      ]
     },
     "execution_count": 10,
     "metadata": {},
     "output_type": "execute_result"
    }
   ],
   "source": [
    "Properties = []\n",
    "for i in range(0,10):\n",
    "    \n",
    "    Property_dict = {}\n",
    "    Property_dict['address'] = addresses[i]\n",
    "    \n",
    "    for j in range (0, len(page_info[i])):\n",
    "        \n",
    "        try:\n",
    "                    \n",
    "            if page_info[i][j].split(' ')[0] == \"Sold\": \n",
    "                Property_dict['price'] = page_info[i][j].split(' ')[1]\n",
    "                Property_dict['sold date'] = page_info[i][j].split('in ')[1]\n",
    "\n",
    "            if page_info[i][j].split(' ')[0] in [\"Apartment:\", \"House:\", \"Townhouse:\"]:\n",
    "                Property_dict['type'] = page_info[i][j].split(' ')[0].split(':')[0]\n",
    "                Property_dict['bedrooms'] = page_info[i][j].split(' ')[1]\n",
    "                try:\n",
    "                    Property_dict['bathrooms'] = page_info[i][j].split(' ')[3]\n",
    "                except:\n",
    "                    Property_dict['bathrooms'] = ''\n",
    "                try:\n",
    "                    Property_dict['car space'] = page_info[i][j].split(' ')[5]\n",
    "                except:\n",
    "                    Property_dict['car space'] = ''\n",
    "                    \n",
    "            if page_info[i][j].split(' ')[0] == \"Agent:\":\n",
    "                Property_dict['agent'] = page_info[i][j].split(': ')[1]\n",
    "                \n",
    "            if page_info[i][j].split(' ')[0] == \"Rent\":\n",
    "                Property_dict['rent'] = page_info[i][j].split(' ')[1]\n",
    "                Property_dict['rent date'] = page_info[i][j].split('in ')[1]\n",
    "                \n",
    "            if page_info[i][j].split(' ')[1] == \"size\":\n",
    "                if page_info[i][j].split(' ')[0] == \"Land\":\n",
    "                    Property_dict['Land size'] = page_info[i][j].split(' ')[2]\n",
    "                    try:\n",
    "                        if page_info[i][j].split(' ')[5] == \"Building\":\n",
    "                            Property_dict['Building size'] = page_info[i][j].split(' ')[7]\n",
    "                    except:\n",
    "                        continue\n",
    "                elif page_info[i][j].split(' ')[0] == \"Building\":\n",
    "                    Property_dict['Building size'] = page_info[i][j].split(' ')[2]\n",
    "            \n",
    "            \n",
    "        except:\n",
    "            continue\n",
    "\n",
    "  \n",
    "    Properties.append(Property_dict)\n",
    "        \n",
    "Properties"
   ]
  },
  {
   "cell_type": "code",
   "execution_count": null,
   "metadata": {},
   "outputs": [],
   "source": []
  }
 ],
 "metadata": {
  "kernelspec": {
   "display_name": "Python (PythonData)",
   "language": "python",
   "name": "pythondata"
  },
  "language_info": {
   "codemirror_mode": {
    "name": "ipython",
    "version": 3
   },
   "file_extension": ".py",
   "mimetype": "text/x-python",
   "name": "python",
   "nbconvert_exporter": "python",
   "pygments_lexer": "ipython3",
   "version": "3.9.5"
  }
 },
 "nbformat": 4,
 "nbformat_minor": 4
}
